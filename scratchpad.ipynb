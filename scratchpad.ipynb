{
  "cells": [
    {
      "cell_type": "markdown",
      "metadata": {
        "id": "view-in-github",
        "colab_type": "text"
      },
      "source": [
        "<a href=\"https://colab.research.google.com/github/AlanTinajero/Computervisionmodel/blob/main/scratchpad.ipynb\" target=\"_parent\"><img src=\"https://colab.research.google.com/assets/colab-badge.svg\" alt=\"Open In Colab\"/></a>"
      ]
    },
    {
      "cell_type": "code",
      "execution_count": 1,
      "metadata": {
        "colab": {
          "base_uri": "https://localhost:8080/",
          "height": 148
        },
        "id": "lIYdn1woOS1n",
        "outputId": "f6271ae4-9672-41bb-de39-5b58cf1bf5ad"
      },
      "outputs": [
        {
          "output_type": "error",
          "ename": "SyntaxError",
          "evalue": "ignored",
          "traceback": [
            "\u001b[0;36m  File \u001b[0;32m\"<ipython-input-1-ca5999fe3687>\"\u001b[0;36m, line \u001b[0;32m1\u001b[0m\n\u001b[0;31m    $predictionUrl=\"https://alantiba.cognitiveservices.azure.com/customvision/v3.0/Prediction/88ff7913-69b5-4292-955f-02bf9f3132ec/classify/iterations/BreastCancer/url\"\u001b[0m\n\u001b[0m    ^\u001b[0m\n\u001b[0;31mSyntaxError\u001b[0m\u001b[0;31m:\u001b[0m invalid syntax\n"
          ]
        }
      ],
      "source": [
        "$predictionUrl=\"https://alantiba.cognitiveservices.azure.com/customvision/v3.0/Prediction/88ff7913-69b5-4292-955f-02bf9f3132ec/classify/iterations/BreastCancer/url\"\n",
        "$predictionKey = \"4336e3b7a3fe44f3aa6f65352334b7b5\"\n",
        "\n",
        "\n",
        "# Code to call Custom Vision service for image classification\n",
        "\n",
        "$img_num = 1\n",
        "if ($args.count -gt 0 -And $args[0] -in (1..3))\n",
        "{\n",
        "    $img_num = $args[0]\n",
        "}\n",
        "\n",
        "$img = \"https://raw.githubusercontent.com/MicrosoftLearning/AI-900-AIFundamentals/main/data/vision/animals/animal-$($img_num).jpg\"\n",
        "\n",
        "$headers = @{}\n",
        "$headers.Add( \"Prediction-Key\", $predictionKey )\n",
        "$headers.Add( \"Content-Type\",\"application/json\" )\n",
        "\n",
        "$body = \"{'url' : '$img'}\"\n",
        "\n",
        "write-host \"Analyzing image...\"\n",
        "$result = Invoke-RestMethod -Method Post `\n",
        "          -Uri $predictionUrl `\n",
        "          -Headers $headers `\n",
        "          -Body $body | ConvertTo-Json -Depth 5\n",
        "\n",
        "$prediction = $result | ConvertFrom-Json\n",
        "\n",
        "Write-Host (\"`n\",$prediction.predictions[0].tagName, \"`n\")\n"
      ]
    }
  ],
  "metadata": {
    "colab": {
      "name": "scratchpad",
      "provenance": [],
      "include_colab_link": true
    },
    "kernelspec": {
      "display_name": "Python 3",
      "name": "python3"
    }
  },
  "nbformat": 4,
  "nbformat_minor": 0
}